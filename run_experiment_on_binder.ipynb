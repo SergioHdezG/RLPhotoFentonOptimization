{
 "cells": [
  {
   "cell_type": "markdown",
   "source": [
    "# Optimizing the Photo-fenton model using Deep Reinforcement Learning\n",
    "\n",
    "In this notebook we show an example of optimizing the Photo-fenton model using a PPO agent with \"balanced\" memory configuration and \"random\" initialization (called DB-R).\n",
    "\n",
    "We also provide .py files of all agent configuration from this work. These .py files should be run from terminal and must be configured using the exp_config.yaml file.\n",
    "\n",
    "```bash\n",
    "python <file.py> <path to folder containing exp_config.yaml>\n",
    "```\n",
    "\n",
    "E. g.: An optimization of peroxide model using a PPO agent with \"balanced\" memory of experiences and \"random\"\n",
    "initialization should be run as:\n",
    "\n",
    "```bash\n",
    "python Agent_DB-R.py ./\n",
    "```\n"
   ],
   "metadata": {
    "collapsed": false,
    "pycharm": {
     "name": "#%% md\n"
    }
   }
  },
  {
   "cell_type": "code",
   "execution_count": 5,
   "outputs": [],
   "source": [
    "import os\n",
    "import sys\n",
    "\n",
    "from tensorflow.keras.models import Sequential\n",
    "from tensorflow.keras.layers import Dense, LSTM\n",
    "from RL_Agent import ppo_agent_continuous_parallel\n",
    "from utils.preprocess import *\n",
    "from utils import hyperparameters as hyperparams\n",
    "from RL_Problem import rl_problem\n",
    "from src.environments import perox_complete_model_small_glob_coord\n",
    "import global_enviroment_log as glob\n",
    "import datetime as dt\n",
    "import yaml\n",
    "import matplotlib.pyplot as plt"
   ],
   "metadata": {
    "collapsed": false,
    "pycharm": {
     "name": "#%%\n"
    }
   }
  },
  {
   "cell_type": "markdown",
   "source": [
    "Let's configure the algorithm parameters. When running out of binder you should use the exp_config.yaml file for this purpose.\n",
    "\n",
    "Here we explain each parameter:"
   ],
   "metadata": {
    "collapsed": false,
    "pycharm": {
     "name": "#%% md\n"
    }
   }
  },
  {
   "cell_type": "code",
   "execution_count": 6,
   "outputs": [],
   "source": [
    "actor_lr = 1e-5  # actor network learning rate\n",
    "critic_lr = 1e-5  # critic network learning rate\n",
    "batch_size =  128  # batch size for training the network\n",
    "exploration_noise = 5.0  # Maximum value of std in exploration\n",
    "epsilon = 1.0  # Exploration rate\n",
    "epsilon_decay = 0.8   # Exploration decay rate. Rate decay by multipliying epsilon * epsilon_decay\n",
    "epsilon_min = 0.09  # Minimum value for epsilon.\n",
    "memory_size = 40  # Number of experiences stored in memory for each training step\n",
    "histogram_memory = True  # Whether use histogram (or balanced) memory configuration.\n",
    "n_stack = 20  # Number of states from previous time steps used as inputs to the neural network.\n",
    "n_threads = 12  # Number of parallel executions.\n",
    "iter = 252  # Full iterations. Round*n_threads = iter\n",
    "\n",
    "sodis_params = \"src/environments/fotocaos_complete_model/sodis_params.txt\"  # File to the sodis parameters\n",
    "\n",
    "experiment_path = \"experiments/\"  # path to save the logs"
   ],
   "metadata": {
    "collapsed": false,
    "pycharm": {
     "name": "#%%\n"
    }
   }
  },
  {
   "cell_type": "markdown",
   "source": [
    "Load model fixed data:"
   ],
   "metadata": {
    "collapsed": false,
    "pycharm": {
     "name": "#%% md\n"
    }
   }
  },
  {
   "cell_type": "code",
   "execution_count": 7,
   "outputs": [],
   "source": [
    "glob.traj_path = experiment_path\n",
    "\n",
    "log_alpha_values_init = [1e-5, 1e-5, 1e-5, -15., 1e-5, 1e-5, 1e-5, 1e-5, 1e-5, 1e-5, 1e-5, 1e-5, 1, 1]\n",
    "\n",
    "f = open(sodis_params, \"r\")\n",
    "sodis_params = f.read()\n",
    "sodis_params = sodis_params.split('\\n')\n",
    "sodis_params = [float(sodis_params[i]) for i in range(len(sodis_params)-1)]\n",
    "\n",
    "# Assign Sodis params\n",
    "log_alpha_values_init[6] = sodis_params[0]\n",
    "log_alpha_values_init[10] = sodis_params[1]\n",
    "log_alpha_values_init[13] = np.trunc(sodis_params[2])"
   ],
   "metadata": {
    "collapsed": false,
    "pycharm": {
     "name": "#%%\n"
    }
   }
  },
  {
   "cell_type": "markdown",
   "source": [
    "Build the reinforcement learning environment. This entity includes the Photo-fenton model."
   ],
   "metadata": {
    "collapsed": false,
    "pycharm": {
     "name": "#%% md\n"
    }
   }
  },
  {
   "cell_type": "code",
   "execution_count": 8,
   "outputs": [
    {
     "name": "stderr",
     "output_type": "stream",
     "text": [
      "/home/serch/TFM/RLPhotoFentonOptimization/src/environments/fotocaos_complete_model/modelo_completo_perox_interfaz_v2.py:361: VisibleDeprecationWarning: Creating an ndarray from ragged nested sequences (which is a list-or-tuple of lists-or-tuples-or ndarrays with different lengths or shapes) is deprecated. If you meant to do this, you must specify 'dtype=object' when creating the ndarray\n",
      "  nuevos_index.append(np.array(index_aux))\n",
      "/home/serch/TFM/RLPhotoFentonOptimization/src/environments/fotocaos_complete_model/modelo_completo_perox_interfaz_v2.py:365: VisibleDeprecationWarning: Creating an ndarray from ragged nested sequences (which is a list-or-tuple of lists-or-tuples-or ndarrays with different lengths or shapes) is deprecated. If you meant to do this, you must specify 'dtype=object' when creating the ndarray\n",
      "  nuevos_index.append(np.array(index_aux))\n"
     ]
    }
   ],
   "source": [
    "m_peroxide = perox_complete_model_small_glob_coord.env(sodis=False,\n",
    "                                                       perox=True,\n",
    "                                                       bact=False,\n",
    "                                                       log_alpha_values_init=log_alpha_values_init,\n",
    "                                                       log_scale=False)"
   ],
   "metadata": {
    "collapsed": false,
    "pycharm": {
     "name": "#%%\n"
    }
   }
  },
  {
   "cell_type": "markdown",
   "source": [
    "Define the neural network architecture."
   ],
   "metadata": {
    "collapsed": false,
    "pycharm": {
     "name": "#%% md\n"
    }
   }
  },
  {
   "cell_type": "code",
   "execution_count": 11,
   "outputs": [],
   "source": [
    "def lstm_custom_model_actor(input_shape):\n",
    "    actor_model = Sequential()\n",
    "    actor_model.add(LSTM(128, input_shape=input_shape, activation='tanh'))\n",
    "    actor_model.add(Dense(256, input_shape=input_shape, activation='relu'))\n",
    "    actor_model.add(Dense(256, input_shape=input_shape, activation='relu'))\n",
    "    actor_model.add(Dense(128, activation='relu'))\n",
    "    return actor_model\n",
    "\n",
    "def lstm_custom_model_critic(input_shape):\n",
    "    actor_model = Sequential()\n",
    "    actor_model.add(LSTM(128, input_shape=input_shape, activation='tanh'))\n",
    "    actor_model.add(Dense(256, input_shape=input_shape, activation='relu'))\n",
    "    actor_model.add(Dense(128, activation='relu'))\n",
    "    return actor_model\n",
    "\n",
    "net_architecture = hyperparams.actor_critic_net_architecture(use_custom_network=True,\n",
    "                                                        actor_custom_network=lstm_custom_model_actor,\n",
    "                                                        critic_custom_network=lstm_custom_model_critic,\n",
    "                                                        )"
   ],
   "metadata": {
    "collapsed": false,
    "pycharm": {
     "name": "#%%\n"
    }
   }
  },
  {
   "cell_type": "markdown",
   "source": [
    "Build a PPO agent."
   ],
   "metadata": {
    "collapsed": false,
    "pycharm": {
     "name": "#%% md\n"
    }
   }
  },
  {
   "cell_type": "code",
   "execution_count": 12,
   "outputs": [],
   "source": [
    "agent = ppo_agent_continuous_parallel.Agent(actor_lr=actor_lr,\n",
    "                                            critic_lr=critic_lr,\n",
    "                                            batch_size=batch_size,\n",
    "                                            exploration_noise=exploration_noise,\n",
    "                                            epsilon=epsilon,\n",
    "                                            epsilon_decay=epsilon_decay,\n",
    "                                            epsilon_min=epsilon_min,\n",
    "                                            memory_size=memory_size,\n",
    "                                            net_architecture=net_architecture,\n",
    "                                            n_stack=n_stack,\n",
    "                                            n_step_return=20,\n",
    "                                            histogram_memory=histogram_memory,\n",
    "                                            tensorboard_dir=None,\n",
    "                                            n_parallel_envs=n_threads\n",
    "                                            )"
   ],
   "metadata": {
    "collapsed": false,
    "pycharm": {
     "name": "#%%\n"
    }
   }
  },
  {
   "cell_type": "markdown",
   "source": [
    "Build a reinforcement learning problem with an environment (the model) and an agent."
   ],
   "metadata": {
    "collapsed": false,
    "pycharm": {
     "name": "#%% md\n"
    }
   }
  },
  {
   "cell_type": "code",
   "execution_count": 13,
   "outputs": [
    {
     "name": "stdout",
     "output_type": "stream",
     "text": [
      "WARNING:tensorflow:From /home/serch/TFM/RLPhotoFentonOptimization/RL_Agent/base/PPO_base/ppo_agent_base.py:35: The name tf.keras.backend.get_session is deprecated. Please use tf.compat.v1.keras.backend.get_session instead.\n",
      "\n",
      "\u001B[33mWARNING: If you want to specify convolutional layers you must set all the values for the following keys: conv_layers, kernel_num, kernel_size, kernel_strides and conv_activation\u001B[0m\n",
      "\u001B[33mWARNING: If you want to specify dense layers you must set all the values for the following keys: dense_lay, n_neurons and dense_activation\u001B[0m\n",
      "Custom network option selected: {use_custom_network:  True , custom_network:  <function lstm_custom_model_actor at 0x7f62cf8b7950> }\n",
      "WARNING:tensorflow:From /home/serch/anaconda3/envs/fotocaos/lib/python3.6/site-packages/tensorflow/python/ops/init_ops.py:1251: calling VarianceScaling.__init__ (from tensorflow.python.ops.init_ops) with dtype is deprecated and will be removed in a future version.\n",
      "Instructions for updating:\n",
      "Call initializer instance with the dtype argument instead of passing it to the constructor\n",
      "Model: \"model\"\n",
      "__________________________________________________________________________________________________\n",
      "Layer (type)                    Output Shape         Param #     Connected to                     \n",
      "==================================================================================================\n",
      "lstm_input (InputLayer)         [(None, 20, 245)]    0                                            \n",
      "__________________________________________________________________________________________________\n",
      "lstm (LSTM)                     (None, 128)          191488      lstm_input[0][0]                 \n",
      "__________________________________________________________________________________________________\n",
      "dense (Dense)                   (None, 256)          33024       lstm[0][0]                       \n",
      "__________________________________________________________________________________________________\n",
      "dense_1 (Dense)                 (None, 256)          65792       dense[0][0]                      \n",
      "__________________________________________________________________________________________________\n",
      "dense_2 (Dense)                 (None, 128)          32896       dense_1[0][0]                    \n",
      "__________________________________________________________________________________________________\n",
      "input_1 (InputLayer)            [(None, 1)]          0                                            \n",
      "__________________________________________________________________________________________________\n",
      "input_2 (InputLayer)            [(None, 5)]          0                                            \n",
      "__________________________________________________________________________________________________\n",
      "input_3 (InputLayer)            [(None, 1)]          0                                            \n",
      "__________________________________________________________________________________________________\n",
      "input_4 (InputLayer)            [(None, 1)]          0                                            \n",
      "__________________________________________________________________________________________________\n",
      "output (Dense)                  (None, 5)            645         dense_2[0][0]                    \n",
      "==================================================================================================\n",
      "Total params: 323,845\n",
      "Trainable params: 323,845\n",
      "Non-trainable params: 0\n",
      "__________________________________________________________________________________________________\n",
      "\u001B[33mWARNING: If you want to specify convolutional layers you must set all the values for the following keys: conv_layers, kernel_num, kernel_size, kernel_strides and conv_activation\u001B[0m\n",
      "\u001B[33mWARNING: If you want to specify dense layers you must set all the values for the following keys: dense_lay, n_neurons and dense_activation\u001B[0m\n",
      "Custom network option selected: {use_custom_network:  True , custom_network:  <function lstm_custom_model_critic at 0x7f62cf8b7bf8> }\n"
     ]
    }
   ],
   "source": [
    "problem = rl_problem.Problem(m_peroxide, agent)"
   ],
   "metadata": {
    "collapsed": false,
    "pycharm": {
     "name": "#%%\n"
    }
   }
  },
  {
   "cell_type": "markdown",
   "source": [
    "Set a preprocessing function."
   ],
   "metadata": {
    "collapsed": false,
    "pycharm": {
     "name": "#%% md\n"
    }
   }
  },
  {
   "cell_type": "code",
   "execution_count": 15,
   "outputs": [],
   "source": [
    "problem.preprocess = perox_only_norm\n",
    "problem.compile()"
   ],
   "metadata": {
    "collapsed": false,
    "pycharm": {
     "name": "#%%\n"
    }
   }
  },
  {
   "cell_type": "markdown",
   "source": [
    "Execute the optimization process. Note that a histogram of the memory is shown when using balanced memory. This histogram shows the number of states for each reward value."
   ],
   "metadata": {
    "collapsed": false,
    "pycharm": {
     "name": "#%% md\n"
    }
   }
  },
  {
   "cell_type": "code",
   "execution_count": 16,
   "outputs": [
    {
     "name": "stdout",
     "output_type": "stream",
     "text": [
      "Start time 2022-05-02 20:28:17.030852\n",
      "Episode  1 Epochs  40  Reward -235.8 Smooth Reward -262.8  Epsilon 1.0000\n",
      "Episode  2 Epochs  40  Reward -235.4 Smooth Reward -262.8  Epsilon 1.0000\n",
      "Episode  3 Epochs  40  Reward -306.3 Smooth Reward -262.8  Epsilon 1.0000\n",
      "Episode  4 Epochs  40  Reward -317.2 Smooth Reward -262.8  Epsilon 1.0000\n",
      "Episode  5 Epochs  40  Reward -234.8 Smooth Reward -262.8  Epsilon 1.0000\n",
      "Episode  6 Epochs  40  Reward -210.8 Smooth Reward -262.8  Epsilon 1.0000\n",
      "Episode  7 Epochs  40  Reward -245.0 Smooth Reward -262.8  Epsilon 1.0000\n",
      "Episode  8 Epochs  40  Reward -276.9 Smooth Reward -262.8  Epsilon 1.0000\n",
      "Episode  9 Epochs  40  Reward -327.2 Smooth Reward -262.8  Epsilon 1.0000\n",
      "Episode  10 Epochs  40  Reward -244.5 Smooth Reward -262.8  Epsilon 1.0000\n",
      "Episode  11 Epochs  40  Reward -243.5 Smooth Reward -262.8  Epsilon 1.0000\n",
      "Episode  12 Epochs  40  Reward -276.2 Smooth Reward -262.8  Epsilon 1.0000\n"
     ]
    },
    {
     "data": {
      "text/plain": "<Figure size 432x288 with 1 Axes>",
      "image/png": "[encoded data removed]"
     },
     "metadata": {
      "needs_background": "light"
     },
     "output_type": "display_data"
    },
    {
     "name": "stdout",
     "output_type": "stream",
     "text": [
      "WARNING:tensorflow:From /home/serch/anaconda3/envs/fotocaos/lib/python3.6/site-packages/tensorflow/python/ops/math_grad.py:1250: add_dispatch_support.<locals>.wrapper (from tensorflow.python.ops.array_ops) is deprecated and will be removed in a future version.\n",
      "Instructions for updating:\n",
      "Use tf.where in 2.0, which has the same broadcast rule as np.where\n"
     ]
    },
    {
     "name": "stderr",
     "output_type": "stream",
     "text": [
      "/home/serch/TFM/RLPhotoFentonOptimization/RL_Agent/base/PPO_base/ppo_agent_base.py:393: VisibleDeprecationWarning: Creating an ndarray from ragged nested sequences (which is a list-or-tuple of lists-or-tuples-or ndarrays with different lengths or shapes) is deprecated. If you meant to do this, you must specify 'dtype=object' when creating the ndarray\n",
      "  global_error = np.array(self.best_params_fotocaos_list)[:, 1]\n"
     ]
    },
    {
     "name": "stdout",
     "output_type": "stream",
     "text": [
      "Actor loss 787.3103678385417 0\n",
      "Critic loss 1554.588045247396 0\n",
      "Episode  13 Epochs  40  Reward -253.2 Smooth Reward -259.7  Epsilon 0.8000\n",
      "Episode  14 Epochs  40  Reward -255.9 Smooth Reward -259.7  Epsilon 0.8000\n",
      "Episode  15 Epochs  40  Reward -255.0 Smooth Reward -259.7  Epsilon 0.8000\n",
      "Episode  16 Epochs  40  Reward -244.4 Smooth Reward -259.7  Epsilon 0.8000\n",
      "Episode  17 Epochs  40  Reward -265.9 Smooth Reward -259.7  Epsilon 0.8000\n",
      "Episode  18 Epochs  40  Reward -286.3 Smooth Reward -259.7  Epsilon 0.8000\n",
      "Episode  19 Epochs  40  Reward -223.7 Smooth Reward -259.7  Epsilon 0.8000\n",
      "Episode  20 Epochs  40  Reward -256.4 Smooth Reward -259.7  Epsilon 0.8000\n",
      "Episode  21 Epochs  40  Reward -276.1 Smooth Reward -259.7  Epsilon 0.8000\n",
      "Episode  22 Epochs  40  Reward -286.1 Smooth Reward -259.7  Epsilon 0.8000\n",
      "Episode  23 Epochs  40  Reward -224.2 Smooth Reward -259.7  Epsilon 0.8000\n",
      "Episode  24 Epochs  40  Reward -252.7 Smooth Reward -259.7  Epsilon 0.8000\n"
     ]
    },
    {
     "data": {
      "text/plain": "<Figure size 432x288 with 1 Axes>",
      "image/png": "[encoded data removed]"
     },
     "metadata": {
      "needs_background": "light"
     },
     "output_type": "display_data"
    },
    {
     "name": "stdout",
     "output_type": "stream",
     "text": [
      "Actor loss 536.1685233738111 1\n",
      "Critic loss 1054.2254712975543 1\n",
      "End time 2022-05-02 20:29:50.074157\n",
      "Optimization time 0:01:33.043305\n"
     ]
    }
   ],
   "source": [
    "start_time = dt.datetime.now()\n",
    "print('Start time', start_time)\n",
    "\n",
    "problem.solve(iter, render=False)\n",
    "\n",
    "end_time = dt.datetime.now()\n",
    "opt_time = end_time - start_time\n",
    "\n",
    "print('End time', end_time)\n",
    "print('Optimization time', opt_time)"
   ],
   "metadata": {
    "collapsed": false,
    "pycharm": {
     "name": "#%%\n"
    }
   }
  },
  {
   "cell_type": "markdown",
   "source": [
    "Show the best set of params found for the peroxide model."
   ],
   "metadata": {
    "collapsed": false,
    "pycharm": {
     "name": "#%% md\n"
    }
   }
  },
  {
   "cell_type": "code",
   "execution_count": 20,
   "outputs": [
    {
     "name": "stdout",
     "output_type": "stream",
     "text": [
      "Peroxide params (K_M_P):  [-0.53922129 -1.46990596 -0.7196868   0.85200202 -2.10898331]\n",
      "Model error:  0.4295404604460738\n"
     ]
    }
   ],
   "source": [
    "best_parallel_params_list = problem.env.get_best_params()\n",
    "\n",
    "params_list = []\n",
    "for params in best_parallel_params_list:\n",
    "    params_list.extend(params)\n",
    "\n",
    "if len(params_list) > 0:\n",
    "    ind_best = np.argmin(np.array(params_list)[:, 1])\n",
    "    model_params, model_error = params_list[ind_best][0], params_list[ind_best][1]\n",
    "\n",
    "print('Peroxide params (K_M_P): ', model_params)\n",
    "print('Peroxide model error: ', model_error)"
   ],
   "metadata": {
    "collapsed": false,
    "pycharm": {
     "name": "#%%\n"
    }
   }
  },
  {
   "cell_type": "markdown",
   "source": [
    "Next we are going to optimize the bacteria model. First thing we need is to assign the optimized parameters of the peroxide model."
   ],
   "metadata": {
    "collapsed": false,
    "pycharm": {
     "name": "#%% md\n"
    }
   }
  },
  {
   "cell_type": "code",
   "execution_count": 21,
   "outputs": [],
   "source": [
    "log_alpha_values_init[0] = model_params[0]\n",
    "log_alpha_values_init[1] = model_params[1]\n",
    "log_alpha_values_init[2] = model_params[2]\n",
    "log_alpha_values_init[4] = model_params[3]\n",
    "log_alpha_values_init[5] = model_params[4]"
   ],
   "metadata": {
    "collapsed": false,
    "pycharm": {
     "name": "#%%\n"
    }
   }
  },
  {
   "cell_type": "markdown",
   "source": [
    "Let's configure the algorithm parameters for the bacteria model optimization.\n",
    "\n",
    "Here we explain each parameter:"
   ],
   "metadata": {
    "collapsed": false,
    "pycharm": {
     "name": "#%% md\n"
    }
   }
  },
  {
   "cell_type": "code",
   "execution_count": 28,
   "outputs": [],
   "source": [
    "actor_lr = 1e-5  # actor network learning rate\n",
    "critic_lr = 1e-5  # critic network learning rate\n",
    "batch_size =  128  # batch size for training the network\n",
    "exploration_noise = 5.0  # Maximum value of std in exploration\n",
    "epsilon = 1.0  # Exploration rate\n",
    "epsilon_decay = 0.8   # Exploration decay rate. Rate decay by multipliying epsilon * epsilon_decay\n",
    "epsilon_min = 0.09  # Minimum value for epsilon.\n",
    "memory_size = 40  # Number of experiences stored in memory for each training step\n",
    "histogram_memory = True  # Whether use histogram (or balanced) memory configuration.\n",
    "n_stack = 20  # Number of states from previous time steps used as inputs to the neural network.\n",
    "n_threads = 12  # Number of parallel executions.\n",
    "iter = 12 # 252  # Full iterations. Round*n_threads = iter"
   ],
   "metadata": {
    "collapsed": false,
    "pycharm": {
     "name": "#%%\n"
    }
   }
  },
  {
   "cell_type": "markdown",
   "source": [
    "Let's build the environment for the bacteria model."
   ],
   "metadata": {
    "collapsed": false,
    "pycharm": {
     "name": "#%% md\n"
    }
   }
  },
  {
   "cell_type": "code",
   "execution_count": 29,
   "outputs": [],
   "source": [
    "m_bacteria = perox_complete_model_small_glob_coord.env(sodis=False,\n",
    "                                                       perox=False,\n",
    "                                                       bact=True,\n",
    "                                                       log_alpha_values_init=log_alpha_values_init,\n",
    "                                                       log_scale=False)"
   ],
   "metadata": {
    "collapsed": false,
    "pycharm": {
     "name": "#%%\n"
    }
   }
  },
  {
   "cell_type": "markdown",
   "source": [
    "Next we create a new agent to start a new optimization process as we did in our experiments. We could also use the previous agent pretrained in the peroxide model."
   ],
   "metadata": {
    "collapsed": false,
    "pycharm": {
     "name": "#%% md\n"
    }
   }
  },
  {
   "cell_type": "code",
   "execution_count": 30,
   "outputs": [],
   "source": [
    "bacteria_agent = ppo_agent_continuous_parallel.Agent(actor_lr=actor_lr,\n",
    "                                            critic_lr=critic_lr,\n",
    "                                            batch_size=batch_size,\n",
    "                                            exploration_noise=exploration_noise,\n",
    "                                            epsilon=epsilon,\n",
    "                                            epsilon_decay=epsilon_decay,\n",
    "                                            epsilon_min=epsilon_min,\n",
    "                                            memory_size=memory_size,\n",
    "                                            net_architecture=net_architecture,\n",
    "                                            n_stack=n_stack,\n",
    "                                            n_step_return=20,\n",
    "                                            histogram_memory=histogram_memory,\n",
    "                                            tensorboard_dir=None,\n",
    "                                            n_parallel_envs=n_threads\n",
    "                                            )"
   ],
   "metadata": {
    "collapsed": false,
    "pycharm": {
     "name": "#%%\n"
    }
   }
  },
  {
   "cell_type": "markdown",
   "source": [
    "Build a reinforcement learning problem with an environment (the model) and an agent."
   ],
   "metadata": {
    "collapsed": false,
    "pycharm": {
     "name": "#%% md\n"
    }
   }
  },
  {
   "cell_type": "code",
   "execution_count": 31,
   "outputs": [],
   "source": [
    "bacteria_problem = rl_problem.Problem(m_bacteria, agent)"
   ],
   "metadata": {
    "collapsed": false,
    "pycharm": {
     "name": "#%%\n"
    }
   }
  },
  {
   "cell_type": "markdown",
   "source": [
    "Set a preprocessing function."
   ],
   "metadata": {
    "collapsed": false,
    "pycharm": {
     "name": "#%% md\n"
    }
   }
  },
  {
   "cell_type": "code",
   "execution_count": 32,
   "outputs": [],
   "source": [
    "bacteria_problem.preprocess = bact_only_norm\n",
    "bacteria_problem.compile()"
   ],
   "metadata": {
    "collapsed": false,
    "pycharm": {
     "name": "#%%\n"
    }
   }
  },
  {
   "cell_type": "markdown",
   "source": [
    "Execute the optimization process. Note that a histogram of the memory is shown when using balanced memory. This histogram shows the number of states for each reward value."
   ],
   "metadata": {
    "collapsed": false,
    "pycharm": {
     "name": "#%% md\n"
    }
   }
  },
  {
   "cell_type": "code",
   "execution_count": null,
   "outputs": [
    {
     "name": "stdout",
     "output_type": "stream",
     "text": [
      "Start time 2022-05-02 20:51:22.976605\n"
     ]
    }
   ],
   "source": [
    "start_time = dt.datetime.now()\n",
    "print('Start time', start_time)\n",
    "\n",
    "bacteria_problem.solve(iter, render=False)\n",
    "\n",
    "end_time = dt.datetime.now()\n",
    "opt_time = end_time - start_time\n",
    "\n",
    "print('End time', end_time)\n",
    "print('Optimization time', opt_time)"
   ],
   "metadata": {
    "collapsed": false,
    "pycharm": {
     "name": "#%%\n",
     "is_executing": true
    }
   }
  },
  {
   "cell_type": "markdown",
   "source": [
    "Show the best set of params found for the bacteria model."
   ],
   "metadata": {
    "collapsed": false,
    "pycharm": {
     "name": "#%% md\n"
    }
   }
  },
  {
   "cell_type": "code",
   "execution_count": null,
   "outputs": [],
   "source": [
    "best_parallel_params_list = bacteria_problem.env.get_best_params()\n",
    "\n",
    "params_list = []\n",
    "for params in best_parallel_params_list:\n",
    "    params_list.extend(params)\n",
    "\n",
    "if len(params_list) > 0:\n",
    "    ind_best = np.argmin(np.array(params_list)[:, 1])\n",
    "    model_params, model_error = params_list[ind_best][0], params_list[ind_best][1]\n",
    "\n",
    "print('Bacteria params (K_M_B): ', model_params)\n",
    "print('Bacteria model error: ', model_error)"
   ],
   "metadata": {
    "collapsed": false,
    "pycharm": {
     "name": "#%%\n",
     "is_executing": true
    }
   }
  },
  {
   "cell_type": "markdown",
   "source": [
    "Show results:"
   ],
   "metadata": {
    "collapsed": false,
    "pycharm": {
     "name": "#%% md\n"
    }
   }
  },
  {
   "cell_type": "code",
   "execution_count": null,
   "outputs": [],
   "source": [
    "from src.environments.fotocaos_complete_model import modelo_completo_perox_interfaz\n",
    "model = modelo_completo_perox_interfaz.ModeloCinetico(perox=True, bact=True, sodis=True,\n",
    "                                                      params_to_optimize=[0, 1, 2, 3, 4, 5, 6, 7, 8, 9, 10, 11, 12, 13])\n",
    "log_alpha_values_init[0] = model_params[0]\n",
    "log_alpha_values_init[1] = model_params[1]\n",
    "log_alpha_values_init[2] = model_params[2]\n",
    "log_alpha_values_init[4] = model_params[3]\n",
    "log_alpha_values_init[5] = model_params[4]\n",
    "params = log_alpha_values_init\n",
    "\n",
    "error, curvas, params = model.reset(params=np.array(params))\n",
    "model.render(error, curvas, params, 0., perox=True, bact=True, sodis=True)\n",
    "plt.show()"
   ],
   "metadata": {
    "collapsed": false,
    "pycharm": {
     "name": "#%%\n",
     "is_executing": true
    }
   }
  },
  {
   "cell_type": "markdown",
   "source": [],
   "metadata": {
    "collapsed": false
   }
  }
 ],
 "metadata": {
  "kernelspec": {
   "display_name": "Python 3",
   "language": "python",
   "name": "python3"
  },
  "language_info": {
   "codemirror_mode": {
    "name": "ipython",
    "version": 2
   },
   "file_extension": ".py",
   "mimetype": "text/x-python",
   "name": "python",
   "nbconvert_exporter": "python",
   "pygments_lexer": "ipython2",
   "version": "2.7.6"
  }
 },
 "nbformat": 4,
 "nbformat_minor": 0
}